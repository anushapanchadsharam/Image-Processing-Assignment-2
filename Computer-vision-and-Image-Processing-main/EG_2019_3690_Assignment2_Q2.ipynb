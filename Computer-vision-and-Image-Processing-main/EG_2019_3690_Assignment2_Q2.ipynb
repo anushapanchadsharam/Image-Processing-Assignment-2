{
 "cells": [
  {
   "cell_type": "code",
   "execution_count": 9,
   "id": "ce8cbe70",
   "metadata": {},
   "outputs": [
    {
     "name": "stderr",
     "output_type": "stream",
     "text": [
      "C:\\Users\\user\\AppData\\Local\\Temp\\ipykernel_17120\\477759889.py:25: RuntimeWarning: invalid value encountered in double_scalars\n",
      "  class_mean2 = (global_mean - cum_mean[threshold]) / class_prob2\n"
     ]
    },
    {
     "data": {
      "image/png": "[encoded data removed]",
      "text/plain": [
       "<Figure size 1500x500 with 3 Axes>"
      ]
     },
     "metadata": {},
     "output_type": "display_data"
    }
   ],
   "source": [
    "import cv2\n",
    "import numpy as np\n",
    "import matplotlib.pyplot as plt\n",
    "\n",
    "def otsu_threshold(image):\n",
    "    # Compute histogram and probabilities of each intensity level\n",
    "    hist, bins = np.histogram(image, bins=range(257))\n",
    "    prob = hist / float(np.sum(hist))\n",
    "    \n",
    "    # Compute cumulative sums\n",
    "    cum_sum = np.cumsum(prob)\n",
    "    cum_mean = np.cumsum(prob * np.arange(256))\n",
    "    \n",
    "    # Compute global mean intensity\n",
    "    global_mean = cum_mean[-1]\n",
    "    \n",
    "    # Compute between-class variance for all possible thresholds\n",
    "    threshold_values = range(1, 256)\n",
    "    between_class_variances = np.zeros(len(threshold_values))\n",
    "    \n",
    "    for i, threshold in enumerate(threshold_values):\n",
    "        # Compute class probabilities and means\n",
    "        class_prob1 = cum_sum[threshold]\n",
    "        class_prob2 = 1.0 - class_prob1\n",
    "        class_mean1 = cum_mean[threshold] / class_prob1\n",
    "        class_mean2 = (global_mean - cum_mean[threshold]) / class_prob2\n",
    "        \n",
    "        # Compute between-class variance\n",
    "        between_class_variances[i] = class_prob1 * class_prob2 * (class_mean1 - class_mean2) ** 2\n",
    "    \n",
    "\n",
    "    optimal_threshold = threshold_values[np.argmax(between_class_variances)]\n",
    "    \n",
    "\n",
    "    thresholded_image = np.zeros_like(image)\n",
    "    thresholded_image[image >= optimal_threshold] = 1\n",
    "    \n",
    "    return thresholded_image\n",
    "\n",
    "def add_gaussian_noise(image, mean=0, std_dev=1):\n",
    "    \n",
    "    noise = np.random.normal(mean, std_dev, image.shape)\n",
    "    \n",
    "    noisy_image = image + noise\n",
    "    \n",
    "    noisy_image = np.clip(noisy_image, 0, 255).astype(np.uint8)\n",
    "    \n",
    "    return noisy_image\n",
    "\n",
    "\n",
    "\n",
    "image = np.zeros((3, 3), dtype=np.uint8)\n",
    "image[1, 1] = 1\n",
    "image[1, 0] = 1\n",
    "noisy_image = add_gaussian_noise(image, mean=0, std_dev=50)\n",
    "\n",
    "# Threshold noisy image using Otsu's algorithm\n",
    "thresholded_image = otsu_threshold(noisy_image)\n",
    "\n",
    "# Display original, noisy, and thresholded images\n",
    "\n",
    "fig, (ax1, ax2, ax3) = plt.subplots(ncols=3, figsize=(15, 5))\n",
    "\n",
    "ax1.imshow(image, cmap='gray')\n",
    "ax1.set_title('Original Image')\n",
    "\n",
    "ax2.imshow(noisy_image, cmap='gray')\n",
    "ax2.set_title('Noisy_image')\n",
    "\n",
    "ax3.imshow(thresholded_image, cmap='gray')\n",
    "ax3.set_title('Thresholded_image')\n",
    "\n",
    "plt.show()"
   ]
  },
  {
   "cell_type": "code",
   "execution_count": null,
   "id": "6b66e114",
   "metadata": {},
   "outputs": [],
   "source": []
  }
 ],
 "metadata": {
  "kernelspec": {
   "display_name": "Python 3 (ipykernel)",
   "language": "python",
   "name": "python3"
  },
  "language_info": {
   "codemirror_mode": {
    "name": "ipython",
    "version": 3
   },
   "file_extension": ".py",
   "mimetype": "text/x-python",
   "name": "python",
   "nbconvert_exporter": "python",
   "pygments_lexer": "ipython3",
   "version": "3.9.13"
  }
 },
 "nbformat": 4,
 "nbformat_minor": 5
}
